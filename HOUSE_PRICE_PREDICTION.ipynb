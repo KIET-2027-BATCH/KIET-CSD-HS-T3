{
  "nbformat": 4,
  "nbformat_minor": 0,
  "metadata": {
    "colab": {
      "provenance": []
    },
    "kernelspec": {
      "name": "python3",
      "display_name": "Python 3"
    },
    "language_info": {
      "name": "python"
    }
  },
  "cells": [
    {
      "cell_type": "code",
      "source": [
        "import pandas as pd\n",
        "from sklearn.model_selection import train_test_split\n",
        "from sklearn.linear_model import LinearRegression\n",
        "from sklearn.preprocessing import OneHotEncoder\n",
        "from sklearn.compose import ColumnTransformer\n",
        "from sklearn.pipeline import Pipeline\n",
        "\n",
        "# Load the dataset\n",
        "file_path = 'Housing.csv'  # Update the file path if needed\n",
        "data = pd.read_csv(file_path)\n",
        "\n",
        "# Separate features and target\n",
        "X = data.drop('price', axis=1)\n",
        "y = data['price']\n",
        "\n",
        "# Identify categorical and numerical columns\n",
        "categorical_cols = ['mainroad', 'guestroom', 'basement', 'hotwaterheating',\n",
        "                    'airconditioning', 'prefarea', 'furnishingstatus']\n",
        "numerical_cols = ['area', 'bedrooms', 'bathrooms', 'stories', 'parking']\n",
        "\n",
        "# Create a column transformer to handle categorical and numerical features\n",
        "preprocessor = ColumnTransformer(\n",
        "    transformers=[\n",
        "        ('num', 'passthrough', numerical_cols),\n",
        "        ('cat', OneHotEncoder(drop='first', handle_unknown='ignore'), categorical_cols)\n",
        "    ]\n",
        ")\n",
        "\n",
        "# Create a pipeline with preprocessing and model\n",
        "model = Pipeline(steps=[\n",
        "    ('preprocessor', preprocessor),\n",
        "    ('regressor', LinearRegression())\n",
        "])\n",
        "\n",
        "# Split the data into training and testing sets\n",
        "X_train, X_test, y_train, y_test = train_test_split(X, y, test_size=0.2, random_state=42)\n",
        "\n",
        "# Train the model\n",
        "model.fit(X_train, y_train)\n",
        "\n",
        "# ✅ Function to predict house price\n",
        "def predict_price():\n",
        "    try:\n",
        "        # Collect numerical inputs\n",
        "        area = float(input(\"Enter area (in sqft): \"))\n",
        "        bedrooms = int(input(\"Enter number of bedrooms: \"))\n",
        "        bathrooms = int(input(\"Enter number of bathrooms: \"))\n",
        "        stories = int(input(\"Enter number of stories: \"))\n",
        "        parking = int(input(\"Enter number of parking spaces: \"))\n",
        "\n",
        "        # Collect categorical inputs and validate them\n",
        "        mainroad = input(\"Is it on the main road? (yes/no): \").strip().lower()\n",
        "        guestroom = input(\"Does it have a guestroom? (yes/no): \").strip().lower()\n",
        "        basement = input(\"Does it have a basement? (yes/no): \").strip().lower()\n",
        "        hotwaterheating = input(\"Does it have hot water heating? (yes/no): \").strip().lower()\n",
        "        airconditioning = input(\"Does it have air conditioning? (yes/no): \").strip().lower()\n",
        "        prefarea = input(\"Is it in a preferred area? (yes/no): \").strip().lower()\n",
        "        furnishingstatus = input(\"Furnishing status (furnished/semi-furnished/unfurnished): \").strip().lower()\n",
        "\n",
        "        # ✅ Ensure categorical values are valid\n",
        "        valid_yes_no = ['yes', 'no']\n",
        "        if mainroad not in valid_yes_no:\n",
        "            raise ValueError(\"Invalid input for 'mainroad'. Please enter 'yes' or 'no'.\")\n",
        "        if guestroom not in valid_yes_no:\n",
        "            raise ValueError(\"Invalid input for 'guestroom'. Please enter 'yes' or 'no'.\")\n",
        "        if basement not in valid_yes_no:\n",
        "            raise ValueError(\"Invalid input for 'basement'. Please enter 'yes' or 'no'.\")\n",
        "        if hotwaterheating not in valid_yes_no:\n",
        "            raise ValueError(\"Invalid input for 'hotwaterheating'. Please enter 'yes' or 'no'.\")\n",
        "        if airconditioning not in valid_yes_no:\n",
        "            raise ValueError(\"Invalid input for 'airconditioning'. Please enter 'yes' or 'no'.\")\n",
        "        if prefarea not in valid_yes_no:\n",
        "            raise ValueError(\"Invalid input for 'prefarea'. Please enter 'yes' or 'no'.\")\n",
        "        if furnishingstatus not in ['furnished', 'semi-furnished', 'unfurnished']:\n",
        "            raise ValueError(\"Invalid input for 'furnishingstatus'. Please enter 'furnished', 'semi-furnished', or 'unfurnished'.\")\n",
        "\n",
        "        # ✅ Convert all inputs to a DataFrame (ensuring proper order and data types)\n",
        "        input_data = pd.DataFrame([[\n",
        "            area, bedrooms, bathrooms, stories, parking,\n",
        "            mainroad, guestroom, basement, hotwaterheating,\n",
        "            airconditioning, prefarea, furnishingstatus\n",
        "        ]], columns=numerical_cols + categorical_cols)\n",
        "\n",
        "        # ✅ Convert categorical inputs explicitly to strings\n",
        "        for col in categorical_cols:\n",
        "            input_data[col] = input_data[col].astype(str)\n",
        "\n",
        "        # ✅ Predict the price\n",
        "        predicted_price = model.predict(input_data)[0]\n",
        "        print(f\"\\n🏠 Predicted House Price: ₹{predicted_price:.2f}\")\n",
        "\n",
        "    except Exception as e:\n",
        "        print(f\"\\n❌ Prediction failed: {e}\")\n",
        "\n",
        "# ✅ Call the function directly\n",
        "predict_price()\n"
      ],
      "metadata": {
        "colab": {
          "base_uri": "https://localhost:8080/"
        },
        "id": "lixOG71tcV5J",
        "outputId": "05e3c2b8-0088-48f8-9ccf-1b8962531209"
      },
      "execution_count": 1,
      "outputs": [
        {
          "output_type": "stream",
          "name": "stdout",
          "text": [
            "Enter area (in sqft): 23456\n",
            "Enter number of bedrooms: 4\n",
            "Enter number of bathrooms: 5\n",
            "Enter number of stories: 2\n",
            "Enter number of parking spaces: 4\n",
            "Is it on the main road? (yes/no): yes\n",
            "Does it have a guestroom? (yes/no): yes\n",
            "Does it have a basement? (yes/no): yes\n",
            "Does it have hot water heating? (yes/no): yes\n",
            "Does it have air conditioning? (yes/no): yes\n",
            "Is it in a preferred area? (yes/no): yes\n",
            "Furnishing status (furnished/semi-furnished/unfurnished): furnished\n",
            "\n",
            "🏠 Predicted House Price: ₹16384324.56\n"
          ]
        }
      ]
    },
    {
      "cell_type": "code",
      "source": [],
      "metadata": {
        "id": "h0F_a98VneHn"
      },
      "execution_count": null,
      "outputs": []
    }
  ]
}